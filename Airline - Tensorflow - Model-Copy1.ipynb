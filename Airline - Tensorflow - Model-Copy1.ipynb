{
 "cells": [
  {
   "cell_type": "code",
   "execution_count": 1,
   "metadata": {},
   "outputs": [
    {
     "name": "stderr",
     "output_type": "stream",
     "text": [
      "C:\\Users\\Shyam\\Anaconda3\\lib\\site-packages\\IPython\\nbformat.py:13: ShimWarning: The `IPython.nbformat` package has been deprecated since IPython 4.0. You should import from nbformat instead.\n",
      "  \"You should import from nbformat instead.\", ShimWarning)\n",
      "C:\\Users\\Shyam\\Anaconda3\\lib\\site-packages\\nbformat\\current.py:19: UserWarning: nbformat.current is deprecated.\n",
      "\n",
      "- use nbformat for read/write/validate public API\n",
      "- use nbformat.vX directly to composing notebooks of a particular version\n",
      "\n",
      "  \"\"\")\n"
     ]
    }
   ],
   "source": [
    "import IPython.nbformat.current as nbf"
   ]
  },
  {
   "cell_type": "code",
   "execution_count": 2,
   "metadata": {},
   "outputs": [
    {
     "name": "stderr",
     "output_type": "stream",
     "text": [
      "C:\\Users\\Shyam\\Anaconda3\\lib\\site-packages\\sklearn\\cross_validation.py:41: DeprecationWarning: This module was deprecated in version 0.18 in favor of the model_selection module into which all the refactored classes and functions are moved. Also note that the interface of the new CV iterators are different from that of this module. This module will be removed in 0.20.\n",
      "  \"This module will be removed in 0.20.\", DeprecationWarning)\n"
     ]
    }
   ],
   "source": [
    "# %load AirlineANN.py\n",
    "\"\"\"\n",
    "Created on Sat Oct 21 16:29:15 2017\n",
    "\n",
    "@author: Shyam\n",
    "\"\"\"\n",
    "\n",
    "\n",
    "import sys\n",
    "import random\n",
    "import numpy as np\n",
    "\n",
    "from sklearn import linear_model, cross_validation, metrics, svm\n",
    "from sklearn.metrics import confusion_matrix, precision_recall_fscore_support, accuracy_score\n",
    "from sklearn.ensemble import RandomForestClassifier\n",
    "from sklearn.preprocessing import StandardScaler\n",
    "\n",
    "import pandas as pd\n",
    "import matplotlib.pyplot as plt\n",
    "import sklearn.feature_selection\n",
    "from sklearn.cross_validation import train_test_split\n",
    "import sklearn.feature_selection\n",
    "from sklearn.linear_model import LogisticRegression\n",
    "from sklearn.metrics import roc_auc_score,confusion_matrix,classification_report\n",
    "\n",
    "import warnings\n",
    "warnings.filterwarnings('ignore')\n",
    "\n",
    "%matplotlib inline\n"
   ]
  },
  {
   "cell_type": "code",
   "execution_count": 3,
   "metadata": {},
   "outputs": [],
   "source": [
    "mdata = pd.read_pickle('rawmodeldata.pkl')"
   ]
  },
  {
   "cell_type": "code",
   "execution_count": 4,
   "metadata": {},
   "outputs": [],
   "source": [
    "data =mdata[['DepDelay', 'Year', 'Month', 'DayofMonth', 'DayOfWeek', 'hour', 'Distance', 'UniqueCarrier', 'Dest', 'd2h', 'isdelay', 'Origin']]\n"
   ]
  },
  {
   "cell_type": "code",
   "execution_count": 5,
   "metadata": {},
   "outputs": [],
   "source": [
    "data = data.sample(frac = 0.5)"
   ]
  },
  {
   "cell_type": "code",
   "execution_count": 6,
   "metadata": {},
   "outputs": [],
   "source": [
    "cols = ['Month', 'DayofMonth', 'DayOfWeek', 'hour', 'Distance', 'd2h','UniqueCarrier', 'Dest']\n",
    "colsy= ['isdelay']"
   ]
  },
  {
   "cell_type": "code",
   "execution_count": 7,
   "metadata": {},
   "outputs": [],
   "source": [
    "X = data[cols]"
   ]
  },
  {
   "cell_type": "code",
   "execution_count": 8,
   "metadata": {},
   "outputs": [
    {
     "data": {
      "text/plain": [
       "Index(['Month', 'DayofMonth', 'DayOfWeek', 'hour', 'Distance', 'd2h',\n",
       "       'UniqueCarrier', 'Dest'],\n",
       "      dtype='object')"
      ]
     },
     "execution_count": 8,
     "metadata": {},
     "output_type": "execute_result"
    }
   ],
   "source": [
    "X.columns"
   ]
  },
  {
   "cell_type": "code",
   "execution_count": 9,
   "metadata": {},
   "outputs": [],
   "source": [
    "y=data[colsy]"
   ]
  },
  {
   "cell_type": "code",
   "execution_count": 10,
   "metadata": {},
   "outputs": [],
   "source": [
    "weather = pd.read_csv('data/weather_2008.csv')"
   ]
  },
  {
   "cell_type": "code",
   "execution_count": 11,
   "metadata": {},
   "outputs": [],
   "source": [
    "fdata = data.merge(weather, left_on=['Year','Month', 'DayofMonth', 'Origin'], right_on=['year','month','day','origin'])"
   ]
  },
  {
   "cell_type": "code",
   "execution_count": 12,
   "metadata": {},
   "outputs": [],
   "source": [
    "fcols = ['Month', 'DayofMonth', 'DayOfWeek', 'hour','Distance', 'UniqueCarrier', 'Dest', 'd2h', 'isdelay',  'maxt', 'mint']\n",
    "d_cols = ['Month', 'DayofMonth', 'DayOfWeek', 'UniqueCarrier', 'hour','Dest']"
   ]
  },
  {
   "cell_type": "code",
   "execution_count": 13,
   "metadata": {},
   "outputs": [],
   "source": [
    "XX = fdata[fcols]"
   ]
  },
  {
   "cell_type": "code",
   "execution_count": 14,
   "metadata": {},
   "outputs": [],
   "source": [
    "X=XX.drop('isdelay',axis=1)"
   ]
  },
  {
   "cell_type": "code",
   "execution_count": 15,
   "metadata": {},
   "outputs": [],
   "source": [
    "y = XX[colsy]"
   ]
  },
  {
   "cell_type": "code",
   "execution_count": 16,
   "metadata": {},
   "outputs": [],
   "source": [
    "import tensorflow as tf"
   ]
  },
  {
   "cell_type": "code",
   "execution_count": 17,
   "metadata": {},
   "outputs": [],
   "source": [
    "Month = tf.feature_column.categorical_column_with_hash_bucket(\"Month\",hash_bucket_size=12,dtype= tf.int64)\n",
    "DayofMonth = tf.feature_column.categorical_column_with_hash_bucket(\"DayofMonth\",hash_bucket_size=31,dtype= tf.int64)\n",
    "DayOfWeek = tf.feature_column.categorical_column_with_hash_bucket(\"DayOfWeek\",hash_bucket_size=10,dtype= tf.int64)\n",
    "UniqueCarrier = tf.feature_column.categorical_column_with_hash_bucket(\"UniqueCarrier\",hash_bucket_size=1000)\n",
    "hour = tf.feature_column.categorical_column_with_hash_bucket(\"hour\",hash_bucket_size=50,dtype= tf.int64)\n",
    "Dest = tf.feature_column.categorical_column_with_hash_bucket(\"Dest\",hash_bucket_size=1000)\n",
    "\n"
   ]
  },
  {
   "cell_type": "code",
   "execution_count": null,
   "metadata": {},
   "outputs": [],
   "source": []
  },
  {
   "cell_type": "code",
   "execution_count": 18,
   "metadata": {},
   "outputs": [],
   "source": [
    "Distance = tf.feature_column.numeric_column(\"Distance\")\n",
    "d2h = tf.feature_column.numeric_column(\"d2h\")\n",
    "maxt = tf.feature_column.numeric_column(\"maxt\")\n",
    "mint = tf.feature_column.numeric_column(\"mint\")"
   ]
  },
  {
   "cell_type": "code",
   "execution_count": 19,
   "metadata": {},
   "outputs": [],
   "source": [
    "feat_cols = [Month, DayofMonth, DayOfWeek, hour,Distance, UniqueCarrier, Dest, d2h, maxt, mint]"
   ]
  },
  {
   "cell_type": "code",
   "execution_count": 20,
   "metadata": {},
   "outputs": [],
   "source": [
    "X_train, X_test, y_train, y_test = train_test_split(X,y,test_size=0.3,random_state=101)"
   ]
  },
  {
   "cell_type": "code",
   "execution_count": 21,
   "metadata": {},
   "outputs": [],
   "source": [
    "input_func=tf.estimator.inputs.pandas_input_fn(x=X_train,y=y_train,batch_size=1000,num_epochs=None,shuffle=True)"
   ]
  },
  {
   "cell_type": "code",
   "execution_count": 22,
   "metadata": {},
   "outputs": [
    {
     "name": "stdout",
     "output_type": "stream",
     "text": [
      "INFO:tensorflow:Using default config.\n",
      "WARNING:tensorflow:Using temporary folder as model directory: C:\\Users\\Shyam\\AppData\\Local\\Temp\\tmpfui0o3yj\n",
      "INFO:tensorflow:Using config: {'_model_dir': 'C:\\\\Users\\\\Shyam\\\\AppData\\\\Local\\\\Temp\\\\tmpfui0o3yj', '_tf_random_seed': 1, '_save_summary_steps': 100, '_save_checkpoints_secs': 600, '_save_checkpoints_steps': None, '_session_config': None, '_keep_checkpoint_max': 5, '_keep_checkpoint_every_n_hours': 10000, '_log_step_count_steps': 100}\n"
     ]
    }
   ],
   "source": [
    "model = tf.estimator.LinearClassifier(feature_columns=feat_cols)"
   ]
  },
  {
   "cell_type": "markdown",
   "metadata": {},
   "source": []
  },
  {
   "cell_type": "code",
   "execution_count": 23,
   "metadata": {},
   "outputs": [
    {
     "name": "stdout",
     "output_type": "stream",
     "text": [
      "INFO:tensorflow:Create CheckpointSaverHook.\n",
      "INFO:tensorflow:Saving checkpoints for 1 into C:\\Users\\Shyam\\AppData\\Local\\Temp\\tmpfui0o3yj\\model.ckpt.\n",
      "INFO:tensorflow:loss = 693.146, step = 1\n",
      "INFO:tensorflow:global_step/sec: 68.8157\n",
      "INFO:tensorflow:loss = 4536.43, step = 101 (1.453 sec)\n",
      "INFO:tensorflow:global_step/sec: 74.4188\n",
      "INFO:tensorflow:loss = 4122.95, step = 201 (1.344 sec)\n",
      "INFO:tensorflow:global_step/sec: 69.5643\n",
      "INFO:tensorflow:loss = 1308.6, step = 301 (1.438 sec)\n",
      "INFO:tensorflow:global_step/sec: 57.1422\n",
      "INFO:tensorflow:loss = 1611.41, step = 401 (1.750 sec)\n",
      "INFO:tensorflow:global_step/sec: 70.3288\n",
      "INFO:tensorflow:loss = 491.467, step = 501 (1.422 sec)\n",
      "INFO:tensorflow:global_step/sec: 73.5617\n",
      "INFO:tensorflow:loss = 1907.57, step = 601 (1.359 sec)\n",
      "INFO:tensorflow:global_step/sec: 74.4185\n",
      "INFO:tensorflow:loss = 1593.92, step = 701 (1.344 sec)\n",
      "INFO:tensorflow:global_step/sec: 74.4177\n",
      "INFO:tensorflow:loss = 502.004, step = 801 (1.344 sec)\n",
      "INFO:tensorflow:global_step/sec: 75.2933\n",
      "INFO:tensorflow:loss = 491.172, step = 901 (1.328 sec)\n",
      "INFO:tensorflow:global_step/sec: 74.4167\n",
      "INFO:tensorflow:loss = 516.397, step = 1001 (1.344 sec)\n",
      "INFO:tensorflow:global_step/sec: 75.0704\n",
      "INFO:tensorflow:loss = 660.119, step = 1101 (1.332 sec)\n",
      "INFO:tensorflow:global_step/sec: 73.5634\n",
      "INFO:tensorflow:loss = 522.664, step = 1201 (1.359 sec)\n",
      "INFO:tensorflow:global_step/sec: 76.1886\n",
      "INFO:tensorflow:loss = 514.898, step = 1301 (1.313 sec)\n",
      "INFO:tensorflow:global_step/sec: 76.1896\n",
      "INFO:tensorflow:loss = 1072.62, step = 1401 (1.313 sec)\n",
      "INFO:tensorflow:global_step/sec: 66.6667\n",
      "INFO:tensorflow:loss = 585.404, step = 1501 (1.516 sec)\n",
      "INFO:tensorflow:global_step/sec: 62.7444\n",
      "INFO:tensorflow:loss = 1133.39, step = 1601 (1.578 sec)\n",
      "INFO:tensorflow:global_step/sec: 73.5624\n",
      "INFO:tensorflow:loss = 682.26, step = 1701 (1.359 sec)\n",
      "INFO:tensorflow:global_step/sec: 74.4178\n",
      "INFO:tensorflow:loss = 523.062, step = 1801 (1.344 sec)\n",
      "INFO:tensorflow:global_step/sec: 74.4177\n",
      "INFO:tensorflow:loss = 596.198, step = 1901 (1.344 sec)\n",
      "INFO:tensorflow:global_step/sec: 75.2932\n",
      "INFO:tensorflow:loss = 698.178, step = 2001 (1.328 sec)\n",
      "INFO:tensorflow:global_step/sec: 72.7264\n",
      "INFO:tensorflow:loss = 459.737, step = 2101 (1.375 sec)\n",
      "INFO:tensorflow:global_step/sec: 77.1077\n",
      "INFO:tensorflow:loss = 671.653, step = 2201 (1.297 sec)\n",
      "INFO:tensorflow:global_step/sec: 77.1075\n",
      "INFO:tensorflow:loss = 767.022, step = 2301 (1.297 sec)\n",
      "INFO:tensorflow:global_step/sec: 76.1885\n",
      "INFO:tensorflow:loss = 481.734, step = 2401 (1.313 sec)\n",
      "INFO:tensorflow:global_step/sec: 75.2933\n",
      "INFO:tensorflow:loss = 527.861, step = 2501 (1.328 sec)\n",
      "INFO:tensorflow:global_step/sec: 74.2537\n",
      "INFO:tensorflow:loss = 551.961, step = 2601 (1.347 sec)\n",
      "INFO:tensorflow:global_step/sec: 60.3766\n",
      "INFO:tensorflow:loss = 639.843, step = 2701 (1.672 sec)\n",
      "INFO:tensorflow:global_step/sec: 63.9993\n",
      "INFO:tensorflow:loss = 605.339, step = 2801 (1.547 sec)\n",
      "INFO:tensorflow:global_step/sec: 75.2932\n",
      "INFO:tensorflow:loss = 700.678, step = 2901 (1.328 sec)\n",
      "INFO:tensorflow:global_step/sec: 75.2924\n",
      "INFO:tensorflow:loss = 572.948, step = 3001 (1.328 sec)\n",
      "INFO:tensorflow:global_step/sec: 75.293\n",
      "INFO:tensorflow:loss = 461.498, step = 3101 (1.328 sec)\n",
      "INFO:tensorflow:global_step/sec: 71.1111\n",
      "INFO:tensorflow:loss = 523.528, step = 3201 (1.406 sec)\n",
      "INFO:tensorflow:global_step/sec: 75.2933\n",
      "INFO:tensorflow:loss = 450.197, step = 3301 (1.328 sec)\n",
      "INFO:tensorflow:global_step/sec: 68.8156\n",
      "INFO:tensorflow:loss = 446.304, step = 3401 (1.453 sec)\n",
      "INFO:tensorflow:global_step/sec: 78.0489\n",
      "INFO:tensorflow:loss = 462.183, step = 3501 (1.281 sec)\n",
      "INFO:tensorflow:global_step/sec: 76.1897\n",
      "INFO:tensorflow:loss = 770.481, step = 3601 (1.313 sec)\n",
      "INFO:tensorflow:global_step/sec: 76.1896\n",
      "INFO:tensorflow:loss = 477.477, step = 3701 (1.313 sec)\n",
      "INFO:tensorflow:global_step/sec: 70.3289\n",
      "INFO:tensorflow:loss = 805.107, step = 3801 (1.422 sec)\n",
      "INFO:tensorflow:global_step/sec: 60.3766\n",
      "INFO:tensorflow:loss = 508.313, step = 3901 (1.656 sec)\n",
      "INFO:tensorflow:global_step/sec: 75.2933\n",
      "INFO:tensorflow:loss = 734.346, step = 4001 (1.328 sec)\n",
      "INFO:tensorflow:global_step/sec: 76.0272\n",
      "INFO:tensorflow:loss = 714.144, step = 4101 (1.315 sec)\n",
      "INFO:tensorflow:global_step/sec: 64.6457\n",
      "INFO:tensorflow:loss = 681.604, step = 4201 (1.547 sec)\n",
      "INFO:tensorflow:global_step/sec: 71.1113\n",
      "INFO:tensorflow:loss = 505.217, step = 4301 (1.406 sec)\n",
      "INFO:tensorflow:global_step/sec: 76.1895\n",
      "INFO:tensorflow:loss = 487.418, step = 4401 (1.313 sec)\n",
      "INFO:tensorflow:global_step/sec: 76.1885\n",
      "INFO:tensorflow:loss = 594.852, step = 4501 (1.313 sec)\n",
      "INFO:tensorflow:global_step/sec: 77.1086\n",
      "INFO:tensorflow:loss = 513.137, step = 4601 (1.297 sec)\n",
      "INFO:tensorflow:global_step/sec: 76.1896\n",
      "INFO:tensorflow:loss = 886.432, step = 4701 (1.313 sec)\n",
      "INFO:tensorflow:global_step/sec: 76.1896\n",
      "INFO:tensorflow:loss = 468.83, step = 4801 (1.313 sec)\n",
      "INFO:tensorflow:global_step/sec: 77.1075\n",
      "INFO:tensorflow:loss = 438.186, step = 4901 (1.297 sec)\n",
      "INFO:tensorflow:global_step/sec: 65.3054\n",
      "INFO:tensorflow:loss = 491.751, step = 5001 (1.531 sec)\n",
      "INFO:tensorflow:global_step/sec: 64.6451\n",
      "INFO:tensorflow:loss = 496.199, step = 5101 (1.547 sec)\n",
      "INFO:tensorflow:global_step/sec: 77.1083\n",
      "INFO:tensorflow:loss = 491.709, step = 5201 (1.297 sec)\n",
      "INFO:tensorflow:global_step/sec: 78.048\n",
      "INFO:tensorflow:loss = 564.724, step = 5301 (1.297 sec)\n",
      "INFO:tensorflow:global_step/sec: 79.0114\n",
      "INFO:tensorflow:loss = 523.753, step = 5401 (1.266 sec)\n",
      "INFO:tensorflow:global_step/sec: 72.7265\n",
      "INFO:tensorflow:loss = 590.29, step = 5501 (1.375 sec)\n",
      "INFO:tensorflow:global_step/sec: 66.4902\n",
      "INFO:tensorflow:loss = 536.69, step = 5601 (1.488 sec)\n",
      "INFO:tensorflow:global_step/sec: 71.9093\n",
      "INFO:tensorflow:loss = 642.636, step = 5701 (1.391 sec)\n",
      "INFO:tensorflow:global_step/sec: 69.5635\n",
      "INFO:tensorflow:loss = 535.489, step = 5801 (1.438 sec)\n",
      "INFO:tensorflow:global_step/sec: 68.0852\n",
      "INFO:tensorflow:loss = 475.562, step = 5901 (1.469 sec)\n",
      "INFO:tensorflow:global_step/sec: 69.5644\n",
      "INFO:tensorflow:loss = 421.015, step = 6001 (1.438 sec)\n",
      "INFO:tensorflow:global_step/sec: 59.8124\n",
      "INFO:tensorflow:loss = 476.809, step = 6101 (1.672 sec)\n",
      "INFO:tensorflow:global_step/sec: 54.7002\n",
      "INFO:tensorflow:loss = 567.503, step = 6201 (1.828 sec)\n",
      "INFO:tensorflow:global_step/sec: 68.8156\n",
      "INFO:tensorflow:loss = 469.277, step = 6301 (1.453 sec)\n",
      "INFO:tensorflow:global_step/sec: 77.1086\n",
      "INFO:tensorflow:loss = 499.522, step = 6401 (1.297 sec)\n",
      "INFO:tensorflow:global_step/sec: 68.0843\n",
      "INFO:tensorflow:loss = 486.248, step = 6501 (1.469 sec)\n",
      "INFO:tensorflow:global_step/sec: 73.5623\n",
      "INFO:tensorflow:loss = 453.32, step = 6601 (1.359 sec)\n",
      "INFO:tensorflow:global_step/sec: 76.1897\n",
      "INFO:tensorflow:loss = 477.927, step = 6701 (1.313 sec)\n",
      "INFO:tensorflow:global_step/sec: 75.2932\n",
      "INFO:tensorflow:loss = 467.672, step = 6801 (1.328 sec)\n",
      "INFO:tensorflow:global_step/sec: 75.2933\n",
      "INFO:tensorflow:loss = 503.339, step = 6901 (1.328 sec)\n",
      "INFO:tensorflow:global_step/sec: 76.9209\n",
      "INFO:tensorflow:loss = 461.013, step = 7001 (1.300 sec)\n",
      "INFO:tensorflow:global_step/sec: 76.1885\n",
      "INFO:tensorflow:loss = 480.688, step = 7101 (1.313 sec)\n",
      "INFO:tensorflow:global_step/sec: 66.6667\n",
      "INFO:tensorflow:loss = 580.334, step = 7201 (1.500 sec)\n",
      "INFO:tensorflow:global_step/sec: 52.0319\n",
      "INFO:tensorflow:loss = 486.527, step = 7301 (1.938 sec)\n",
      "INFO:tensorflow:global_step/sec: 71.1094\n",
      "INFO:tensorflow:loss = 475.909, step = 7401 (1.391 sec)\n",
      "INFO:tensorflow:global_step/sec: 76.1896\n",
      "INFO:tensorflow:loss = 500.067, step = 7501 (1.313 sec)\n",
      "INFO:tensorflow:global_step/sec: 69.5653\n",
      "INFO:tensorflow:loss = 467.607, step = 7601 (1.453 sec)\n",
      "INFO:tensorflow:global_step/sec: 72.7264\n",
      "INFO:tensorflow:loss = 462.421, step = 7701 (1.359 sec)\n",
      "INFO:tensorflow:global_step/sec: 79.0103\n",
      "INFO:tensorflow:loss = 530.55, step = 7801 (1.266 sec)\n",
      "INFO:tensorflow:global_step/sec: 79.0126\n",
      "INFO:tensorflow:loss = 467.814, step = 7901 (1.266 sec)\n",
      "INFO:tensorflow:global_step/sec: 79.0103\n",
      "INFO:tensorflow:loss = 483.933, step = 8001 (1.266 sec)\n",
      "INFO:tensorflow:global_step/sec: 79.0125\n",
      "INFO:tensorflow:loss = 587.997, step = 8101 (1.266 sec)\n",
      "INFO:tensorflow:global_step/sec: 78.0477\n",
      "INFO:tensorflow:loss = 453.378, step = 8201 (1.297 sec)\n",
      "INFO:tensorflow:global_step/sec: 76.1898\n",
      "INFO:tensorflow:loss = 426.026, step = 8301 (1.359 sec)\n"
     ]
    },
    {
     "name": "stdout",
     "output_type": "stream",
     "text": [
      "INFO:tensorflow:global_step/sec: 53.2246\n",
      "INFO:tensorflow:loss = 520.246, step = 8401 (1.816 sec)\n",
      "INFO:tensorflow:global_step/sec: 67.3675\n",
      "INFO:tensorflow:loss = 467.287, step = 8501 (1.484 sec)\n",
      "INFO:tensorflow:global_step/sec: 78.0468\n",
      "INFO:tensorflow:loss = 578.698, step = 8601 (1.281 sec)\n",
      "INFO:tensorflow:global_step/sec: 78.0479\n",
      "INFO:tensorflow:loss = 503.662, step = 8701 (1.281 sec)\n",
      "INFO:tensorflow:global_step/sec: 78.049\n",
      "INFO:tensorflow:loss = 457.707, step = 8801 (1.281 sec)\n",
      "INFO:tensorflow:global_step/sec: 78.0468\n",
      "INFO:tensorflow:loss = 479.679, step = 8901 (1.281 sec)\n",
      "INFO:tensorflow:global_step/sec: 78.049\n",
      "INFO:tensorflow:loss = 486.367, step = 9001 (1.297 sec)\n",
      "INFO:tensorflow:global_step/sec: 78.0467\n",
      "INFO:tensorflow:loss = 489.103, step = 9101 (1.266 sec)\n",
      "INFO:tensorflow:global_step/sec: 78.049\n",
      "INFO:tensorflow:loss = 686.205, step = 9201 (1.281 sec)\n",
      "INFO:tensorflow:global_step/sec: 79.0114\n",
      "INFO:tensorflow:loss = 507.194, step = 9301 (1.281 sec)\n",
      "INFO:tensorflow:global_step/sec: 79.0115\n",
      "INFO:tensorflow:loss = 453.261, step = 9401 (1.250 sec)\n",
      "INFO:tensorflow:global_step/sec: 78.0467\n",
      "INFO:tensorflow:loss = 458.293, step = 9501 (1.281 sec)\n",
      "INFO:tensorflow:global_step/sec: 67.3685\n",
      "INFO:tensorflow:loss = 471.85, step = 9601 (1.484 sec)\n",
      "INFO:tensorflow:global_step/sec: 65.3054\n",
      "INFO:tensorflow:loss = 459.998, step = 9701 (1.531 sec)\n",
      "INFO:tensorflow:global_step/sec: 75.2933\n",
      "INFO:tensorflow:loss = 504.26, step = 9801 (1.328 sec)\n",
      "INFO:tensorflow:global_step/sec: 77.1076\n",
      "INFO:tensorflow:loss = 567.667, step = 9901 (1.297 sec)\n",
      "INFO:tensorflow:Saving checkpoints for 10000 into C:\\Users\\Shyam\\AppData\\Local\\Temp\\tmpfui0o3yj\\model.ckpt.\n",
      "INFO:tensorflow:Loss for final step: 536.84.\n"
     ]
    },
    {
     "data": {
      "text/plain": [
       "<tensorflow.python.estimator.canned.linear.LinearClassifier at 0x25a3039aa20>"
      ]
     },
     "execution_count": 23,
     "metadata": {},
     "output_type": "execute_result"
    }
   ],
   "source": [
    "model.train(input_fn=input_func,steps=10000)"
   ]
  },
  {
   "cell_type": "code",
   "execution_count": 24,
   "metadata": {},
   "outputs": [
    {
     "name": "stdout",
     "output_type": "stream",
     "text": [
      "{}\n"
     ]
    }
   ],
   "source": [
    "print(model.params)"
   ]
  },
  {
   "cell_type": "code",
   "execution_count": 25,
   "metadata": {},
   "outputs": [],
   "source": [
    "pred_fn = tf.estimator.inputs.pandas_input_fn(x=X_test,batch_size=len(X_test),shuffle=False)"
   ]
  },
  {
   "cell_type": "code",
   "execution_count": 26,
   "metadata": {},
   "outputs": [
    {
     "name": "stdout",
     "output_type": "stream",
     "text": [
      "INFO:tensorflow:Restoring parameters from C:\\Users\\Shyam\\AppData\\Local\\Temp\\tmpfui0o3yj\\model.ckpt-10000\n"
     ]
    }
   ],
   "source": [
    "predictions = list(model.predict(input_fn=pred_fn))"
   ]
  },
  {
   "cell_type": "code",
   "execution_count": 27,
   "metadata": {},
   "outputs": [],
   "source": [
    "final_preds = []\n",
    "for pred in predictions:\n",
    "    final_preds.append(pred['class_ids'][0])"
   ]
  },
  {
   "cell_type": "code",
   "execution_count": 28,
   "metadata": {},
   "outputs": [
    {
     "name": "stdout",
     "output_type": "stream",
     "text": [
      "             precision    recall  f1-score   support\n",
      "\n",
      "          0       0.83      0.92      0.87    233056\n",
      "          1       0.42      0.23      0.30     56833\n",
      "\n",
      "avg / total       0.75      0.79      0.76    289889\n",
      "\n"
     ]
    }
   ],
   "source": [
    "print(classification_report(y_test,final_preds))"
   ]
  },
  {
   "cell_type": "code",
   "execution_count": 29,
   "metadata": {},
   "outputs": [
    {
     "name": "stdout",
     "output_type": "stream",
     "text": [
      "0.576819326665\n"
     ]
    }
   ],
   "source": [
    "print(roc_auc_score(y_test,final_preds))"
   ]
  },
  {
   "cell_type": "code",
   "execution_count": 30,
   "metadata": {},
   "outputs": [],
   "source": [
    "X_train, X_test, y_train, y_test = train_test_split(X,y,test_size=0.3,random_state=101)"
   ]
  },
  {
   "cell_type": "code",
   "execution_count": 31,
   "metadata": {},
   "outputs": [],
   "source": [
    "input_func=tf.estimator.inputs.pandas_input_fn(x=X_train,y=y_train,batch_size=100,num_epochs=None,shuffle=True)"
   ]
  },
  {
   "cell_type": "code",
   "execution_count": 32,
   "metadata": {},
   "outputs": [],
   "source": [
    "Month1 = tf.feature_column.categorical_column_with_hash_bucket(\"Month\",hash_bucket_size=12,dtype= tf.int64)\n",
    "DayofMonth1 = tf.feature_column.categorical_column_with_hash_bucket(\"DayofMonth\",hash_bucket_size=31,dtype= tf.int64)\n",
    "DayOfWeek1 = tf.feature_column.categorical_column_with_hash_bucket(\"DayOfWeek\",hash_bucket_size=10,dtype= tf.int64)\n",
    "UniqueCarrier1 = tf.feature_column.categorical_column_with_hash_bucket(\"UniqueCarrier\",hash_bucket_size=1000)\n",
    "hour1 = tf.feature_column.categorical_column_with_hash_bucket(\"hour\",hash_bucket_size=50,dtype= tf.int64)\n",
    "Dest1 = tf.feature_column.categorical_column_with_hash_bucket(\"Dest\",hash_bucket_size=1000)\n"
   ]
  },
  {
   "cell_type": "code",
   "execution_count": 33,
   "metadata": {},
   "outputs": [],
   "source": [
    "Month11 = tf.feature_column.embedding_column(Month1, dimension=12)\n",
    "DayofMonth11 = tf.feature_column.embedding_column(DayofMonth1, dimension=31)\n",
    "DayOfWeek11 = tf.feature_column.embedding_column(DayOfWeek1, dimension=10)\n",
    "UniqueCarrier11 = tf.feature_column.embedding_column(UniqueCarrier1, dimension=1000)\n",
    "hour11 = tf.feature_column.embedding_column(hour1, dimension=50)\n",
    "Dest11 = tf.feature_column.embedding_column(Dest1, dimension=1000)"
   ]
  },
  {
   "cell_type": "code",
   "execution_count": 34,
   "metadata": {},
   "outputs": [],
   "source": [
    "feat_cols1 = [Month11, DayofMonth11, DayOfWeek11, hour11,Distance, UniqueCarrier11, Dest11, d2h, maxt, mint]"
   ]
  },
  {
   "cell_type": "code",
   "execution_count": 35,
   "metadata": {},
   "outputs": [],
   "source": [
    "input_func = tf.estimator.inputs.pandas_input_fn(x=X_train,y=y_train,batch_size=200,num_epochs=200000,shuffle=True)"
   ]
  },
  {
   "cell_type": "code",
   "execution_count": 36,
   "metadata": {},
   "outputs": [],
   "source": [
    "import warnings\n",
    "warnings.filterwarnings('ignore')\n",
    "import warnings; warnings.simplefilter('ignore')"
   ]
  },
  {
   "cell_type": "code",
   "execution_count": 41,
   "metadata": {},
   "outputs": [
    {
     "name": "stdout",
     "output_type": "stream",
     "text": [
      "INFO:tensorflow:Using default config.\n",
      "WARNING:tensorflow:Using temporary folder as model directory: C:\\Users\\Shyam\\AppData\\Local\\Temp\\tmpv76myz2z\n",
      "INFO:tensorflow:Using config: {'_model_dir': 'C:\\\\Users\\\\Shyam\\\\AppData\\\\Local\\\\Temp\\\\tmpv76myz2z', '_tf_random_seed': 1, '_save_summary_steps': 100, '_save_checkpoints_secs': 600, '_save_checkpoints_steps': None, '_session_config': None, '_keep_checkpoint_max': 5, '_keep_checkpoint_every_n_hours': 10000, '_log_step_count_steps': 100}\n"
     ]
    }
   ],
   "source": [
    "dnn_model = tf.estimator.DNNClassifier(hidden_units=[50,30,10], dropout=0.5, feature_columns=feat_cols1,n_classes=2)"
   ]
  },
  {
   "cell_type": "code",
   "execution_count": 42,
   "metadata": {
    "scrolled": false
   },
   "outputs": [
    {
     "name": "stdout",
     "output_type": "stream",
     "text": [
      "INFO:tensorflow:Create CheckpointSaverHook.\n",
      "INFO:tensorflow:Saving checkpoints for 1 into C:\\Users\\Shyam\\AppData\\Local\\Temp\\tmpv76myz2z\\model.ckpt.\n",
      "INFO:tensorflow:loss = 3192.4, step = 1\n",
      "INFO:tensorflow:global_step/sec: 52.4585\n",
      "INFO:tensorflow:loss = 102.274, step = 101 (1.922 sec)\n",
      "INFO:tensorflow:global_step/sec: 53.3327\n",
      "INFO:tensorflow:loss = 99.658, step = 201 (1.859 sec)\n",
      "INFO:tensorflow:global_step/sec: 50.7931\n",
      "INFO:tensorflow:loss = 90.7261, step = 301 (1.984 sec)\n",
      "INFO:tensorflow:global_step/sec: 49.2302\n",
      "INFO:tensorflow:loss = 93.96, step = 401 (2.016 sec)\n",
      "INFO:tensorflow:global_step/sec: 53.3327\n",
      "INFO:tensorflow:loss = 101.759, step = 501 (1.891 sec)\n",
      "INFO:tensorflow:global_step/sec: 54.7002\n",
      "INFO:tensorflow:loss = 97.0043, step = 601 (1.813 sec)\n",
      "INFO:tensorflow:global_step/sec: 54.2367\n",
      "INFO:tensorflow:loss = 100.4, step = 701 (1.844 sec)\n",
      "INFO:tensorflow:global_step/sec: 54.7002\n",
      "INFO:tensorflow:loss = 94.8306, step = 801 (1.828 sec)\n",
      "INFO:tensorflow:global_step/sec: 55.1717\n",
      "INFO:tensorflow:loss = 101.138, step = 901 (1.828 sec)\n",
      "INFO:tensorflow:global_step/sec: 54.8028\n",
      "INFO:tensorflow:loss = 98.5098, step = 1001 (1.809 sec)\n",
      "INFO:tensorflow:global_step/sec: 49.2302\n",
      "INFO:tensorflow:loss = 100.162, step = 1101 (2.031 sec)\n",
      "INFO:tensorflow:global_step/sec: 49.9994\n",
      "INFO:tensorflow:loss = 95.5556, step = 1201 (2.000 sec)\n",
      "INFO:tensorflow:global_step/sec: 51.1994\n",
      "INFO:tensorflow:loss = 97.5836, step = 1301 (1.953 sec)\n",
      "INFO:tensorflow:global_step/sec: 54.7003\n",
      "INFO:tensorflow:loss = 98.7213, step = 1401 (1.828 sec)\n",
      "INFO:tensorflow:global_step/sec: 54.7002\n",
      "INFO:tensorflow:loss = 99.0075, step = 1501 (1.844 sec)\n",
      "INFO:tensorflow:global_step/sec: 54.2367\n",
      "INFO:tensorflow:loss = 110.042, step = 1601 (1.828 sec)\n",
      "INFO:tensorflow:global_step/sec: 55.1718\n",
      "INFO:tensorflow:loss = 100.289, step = 1701 (1.813 sec)\n",
      "INFO:tensorflow:global_step/sec: 54.2367\n",
      "INFO:tensorflow:loss = 95.8066, step = 1801 (1.844 sec)\n",
      "INFO:tensorflow:global_step/sec: 53.3327\n",
      "INFO:tensorflow:loss = 94.3962, step = 1901 (1.891 sec)\n",
      "INFO:tensorflow:global_step/sec: 48.4843\n",
      "INFO:tensorflow:loss = 93.2084, step = 2001 (2.047 sec)\n",
      "INFO:tensorflow:global_step/sec: 50.1047\n",
      "INFO:tensorflow:loss = 97.1298, step = 2101 (1.996 sec)\n",
      "INFO:tensorflow:global_step/sec: 52.8919\n",
      "INFO:tensorflow:loss = 105.699, step = 2201 (1.891 sec)\n",
      "INFO:tensorflow:global_step/sec: 54.7002\n",
      "INFO:tensorflow:loss = 114.076, step = 2301 (1.828 sec)\n",
      "INFO:tensorflow:global_step/sec: 55.1718\n",
      "INFO:tensorflow:loss = 98.7632, step = 2401 (1.813 sec)\n",
      "INFO:tensorflow:global_step/sec: 55.6515\n",
      "INFO:tensorflow:loss = 93.0097, step = 2501 (1.813 sec)\n",
      "INFO:tensorflow:global_step/sec: 55.1718\n",
      "INFO:tensorflow:loss = 107.22, step = 2601 (1.813 sec)\n",
      "INFO:tensorflow:global_step/sec: 55.1717\n",
      "INFO:tensorflow:loss = 93.1402, step = 2701 (1.797 sec)\n",
      "INFO:tensorflow:global_step/sec: 47.7606\n",
      "INFO:tensorflow:loss = 97.3244, step = 2801 (2.094 sec)\n",
      "INFO:tensorflow:global_step/sec: 49.9994\n",
      "INFO:tensorflow:loss = 97.2185, step = 2901 (2.000 sec)\n",
      "INFO:tensorflow:global_step/sec: 49.9994\n",
      "INFO:tensorflow:loss = 114.209, step = 3001 (2.016 sec)\n",
      "INFO:tensorflow:global_step/sec: 51.7509\n",
      "INFO:tensorflow:loss = 98.7628, step = 3101 (1.917 sec)\n",
      "INFO:tensorflow:global_step/sec: 53.3327\n",
      "INFO:tensorflow:loss = 97.2728, step = 3201 (1.875 sec)\n",
      "INFO:tensorflow:global_step/sec: 52.892\n",
      "INFO:tensorflow:loss = 102.954, step = 3301 (1.891 sec)\n",
      "INFO:tensorflow:global_step/sec: 52.8919\n",
      "INFO:tensorflow:loss = 93.1201, step = 3401 (1.891 sec)\n",
      "INFO:tensorflow:global_step/sec: 52.892\n",
      "INFO:tensorflow:loss = 98.605, step = 3501 (1.891 sec)\n",
      "INFO:tensorflow:global_step/sec: 46.7148\n",
      "INFO:tensorflow:loss = 95.9633, step = 3601 (2.141 sec)\n",
      "INFO:tensorflow:global_step/sec: 48.4843\n",
      "INFO:tensorflow:loss = 110.058, step = 3701 (2.063 sec)\n",
      "INFO:tensorflow:global_step/sec: 47.7606\n",
      "INFO:tensorflow:loss = 98.7165, step = 3801 (2.094 sec)\n",
      "INFO:tensorflow:global_step/sec: 49.2301\n",
      "INFO:tensorflow:loss = 92.9989, step = 3901 (2.031 sec)\n",
      "INFO:tensorflow:global_step/sec: 49.9995\n",
      "INFO:tensorflow:loss = 115.62, step = 4001 (2.000 sec)\n",
      "INFO:tensorflow:global_step/sec: 50.3931\n",
      "INFO:tensorflow:loss = 97.2295, step = 4101 (1.984 sec)\n",
      "INFO:tensorflow:global_step/sec: 49.5398\n",
      "INFO:tensorflow:loss = 90.1678, step = 4201 (2.019 sec)\n",
      "INFO:tensorflow:global_step/sec: 49.6118\n",
      "INFO:tensorflow:loss = 91.5603, step = 4301 (2.016 sec)\n",
      "INFO:tensorflow:global_step/sec: 49.6118\n",
      "INFO:tensorflow:loss = 101.502, step = 4401 (2.016 sec)\n",
      "INFO:tensorflow:global_step/sec: 49.9995\n",
      "INFO:tensorflow:loss = 101.517, step = 4501 (2.000 sec)\n",
      "INFO:tensorflow:global_step/sec: 50.3931\n",
      "INFO:tensorflow:loss = 102.887, step = 4601 (1.984 sec)\n",
      "INFO:tensorflow:global_step/sec: 54.7003\n",
      "INFO:tensorflow:loss = 100.051, step = 4701 (1.828 sec)\n",
      "INFO:tensorflow:global_step/sec: 55.6515\n",
      "INFO:tensorflow:loss = 98.6553, step = 4801 (1.797 sec)\n",
      "INFO:tensorflow:global_step/sec: 54.7002\n",
      "INFO:tensorflow:loss = 102.889, step = 4901 (1.828 sec)\n",
      "INFO:tensorflow:global_step/sec: 55.6516\n",
      "INFO:tensorflow:loss = 87.4247, step = 5001 (1.797 sec)\n",
      "INFO:tensorflow:global_step/sec: 54.7002\n",
      "INFO:tensorflow:loss = 94.4648, step = 5101 (1.828 sec)\n",
      "INFO:tensorflow:global_step/sec: 53.2116\n",
      "INFO:tensorflow:loss = 97.2879, step = 5201 (1.895 sec)\n",
      "INFO:tensorflow:global_step/sec: 50.3931\n",
      "INFO:tensorflow:loss = 104.329, step = 5301 (1.984 sec)\n",
      "INFO:tensorflow:global_step/sec: 49.2302\n",
      "INFO:tensorflow:loss = 97.3219, step = 5401 (2.016 sec)\n",
      "INFO:tensorflow:global_step/sec: 52.0319\n",
      "INFO:tensorflow:loss = 108.544, step = 5501 (1.922 sec)\n",
      "INFO:tensorflow:global_step/sec: 54.2366\n",
      "INFO:tensorflow:loss = 93.113, step = 5601 (1.844 sec)\n",
      "INFO:tensorflow:global_step/sec: 49.9994\n",
      "INFO:tensorflow:loss = 109.891, step = 5701 (2.000 sec)\n",
      "INFO:tensorflow:global_step/sec: 50.793\n",
      "INFO:tensorflow:loss = 95.8741, step = 5801 (1.969 sec)\n",
      "INFO:tensorflow:global_step/sec: 55.1718\n",
      "INFO:tensorflow:loss = 94.4839, step = 5901 (1.828 sec)\n",
      "INFO:tensorflow:global_step/sec: 55.1718\n",
      "INFO:tensorflow:loss = 102.857, step = 6001 (1.828 sec)\n",
      "INFO:tensorflow:global_step/sec: 49.2302\n",
      "INFO:tensorflow:loss = 87.4016, step = 6101 (2.000 sec)\n",
      "INFO:tensorflow:global_step/sec: 49.6118\n",
      "INFO:tensorflow:loss = 88.8348, step = 6201 (2.016 sec)\n",
      "INFO:tensorflow:global_step/sec: 50.6346\n",
      "INFO:tensorflow:loss = 91.6368, step = 6301 (1.975 sec)\n",
      "INFO:tensorflow:global_step/sec: 55.1718\n",
      "INFO:tensorflow:loss = 95.8485, step = 6401 (1.828 sec)\n",
      "INFO:tensorflow:global_step/sec: 54.7002\n",
      "INFO:tensorflow:loss = 108.573, step = 6501 (1.813 sec)\n",
      "INFO:tensorflow:global_step/sec: 55.6515\n",
      "INFO:tensorflow:loss = 97.3077, step = 6601 (1.797 sec)\n",
      "INFO:tensorflow:global_step/sec: 55.1718\n",
      "INFO:tensorflow:loss = 104.371, step = 6701 (1.828 sec)\n",
      "INFO:tensorflow:global_step/sec: 54.7002\n",
      "INFO:tensorflow:loss = 94.463, step = 6801 (1.828 sec)\n",
      "INFO:tensorflow:global_step/sec: 52.0319\n",
      "INFO:tensorflow:loss = 105.713, step = 6901 (1.922 sec)\n",
      "INFO:tensorflow:global_step/sec: 49.9994\n",
      "INFO:tensorflow:loss = 105.81, step = 7001 (1.984 sec)\n",
      "INFO:tensorflow:global_step/sec: 49.2302\n",
      "INFO:tensorflow:loss = 94.4128, step = 7101 (2.031 sec)\n",
      "INFO:tensorflow:global_step/sec: 53.7809\n",
      "INFO:tensorflow:loss = 94.4728, step = 7201 (1.859 sec)\n",
      "INFO:tensorflow:global_step/sec: 54.7002\n",
      "INFO:tensorflow:loss = 98.7027, step = 7301 (1.828 sec)\n",
      "INFO:tensorflow:global_step/sec: 53.9796\n",
      "INFO:tensorflow:loss = 88.7432, step = 7401 (1.868 sec)\n",
      "INFO:tensorflow:global_step/sec: 52.8919\n",
      "INFO:tensorflow:loss = 77.4519, step = 7501 (1.875 sec)\n",
      "INFO:tensorflow:global_step/sec: 55.1718\n",
      "INFO:tensorflow:loss = 90.1835, step = 7601 (1.813 sec)\n",
      "INFO:tensorflow:global_step/sec: 55.6514\n",
      "INFO:tensorflow:loss = 88.7497, step = 7701 (1.797 sec)\n",
      "INFO:tensorflow:global_step/sec: 49.6119\n",
      "INFO:tensorflow:loss = 95.8366, step = 7801 (2.016 sec)\n",
      "INFO:tensorflow:global_step/sec: 50.3931\n",
      "INFO:tensorflow:loss = 102.924, step = 7901 (1.984 sec)\n",
      "INFO:tensorflow:global_step/sec: 51.1994\n",
      "INFO:tensorflow:loss = 87.3799, step = 8001 (1.953 sec)\n",
      "INFO:tensorflow:global_step/sec: 55.6515\n",
      "INFO:tensorflow:loss = 107.184, step = 8101 (1.797 sec)\n",
      "INFO:tensorflow:global_step/sec: 55.1718\n",
      "INFO:tensorflow:loss = 105.732, step = 8201 (1.813 sec)\n",
      "INFO:tensorflow:global_step/sec: 54.7003\n",
      "INFO:tensorflow:loss = 94.4553, step = 8301 (1.828 sec)\n"
     ]
    },
    {
     "name": "stdout",
     "output_type": "stream",
     "text": [
      "INFO:tensorflow:global_step/sec: 54.7002\n",
      "INFO:tensorflow:loss = 114.193, step = 8401 (1.828 sec)\n",
      "INFO:tensorflow:global_step/sec: 55.4038\n",
      "INFO:tensorflow:loss = 114.202, step = 8501 (1.805 sec)\n",
      "INFO:tensorflow:global_step/sec: 52.0319\n",
      "INFO:tensorflow:loss = 97.2477, step = 8601 (1.922 sec)\n",
      "INFO:tensorflow:global_step/sec: 50.3931\n",
      "INFO:tensorflow:loss = 91.5835, step = 8701 (1.984 sec)\n",
      "INFO:tensorflow:global_step/sec: 49.2302\n",
      "INFO:tensorflow:loss = 112.763, step = 8801 (2.031 sec)\n",
      "INFO:tensorflow:global_step/sec: 49.6118\n",
      "INFO:tensorflow:loss = 105.717, step = 8901 (2.016 sec)\n",
      "INFO:tensorflow:global_step/sec: 54.7002\n",
      "INFO:tensorflow:loss = 90.2756, step = 9001 (1.828 sec)\n",
      "INFO:tensorflow:global_step/sec: 55.6516\n",
      "INFO:tensorflow:loss = 76.2399, step = 9101 (1.813 sec)\n",
      "INFO:tensorflow:global_step/sec: 54.7002\n",
      "INFO:tensorflow:loss = 97.25, step = 9201 (1.813 sec)\n",
      "INFO:tensorflow:global_step/sec: 54.7002\n",
      "INFO:tensorflow:loss = 95.8623, step = 9301 (1.844 sec)\n",
      "INFO:tensorflow:global_step/sec: 54.2367\n",
      "INFO:tensorflow:loss = 93.0894, step = 9401 (1.844 sec)\n",
      "INFO:tensorflow:global_step/sec: 49.9994\n",
      "INFO:tensorflow:loss = 101.581, step = 9501 (1.984 sec)\n",
      "INFO:tensorflow:global_step/sec: 50.6213\n",
      "INFO:tensorflow:loss = 101.518, step = 9601 (1.991 sec)\n",
      "INFO:tensorflow:global_step/sec: 51.6123\n",
      "INFO:tensorflow:loss = 95.8708, step = 9701 (1.922 sec)\n",
      "INFO:tensorflow:global_step/sec: 55.1717\n",
      "INFO:tensorflow:loss = 93.0847, step = 9801 (1.813 sec)\n",
      "INFO:tensorflow:global_step/sec: 55.1718\n",
      "INFO:tensorflow:loss = 104.299, step = 9901 (1.813 sec)\n",
      "INFO:tensorflow:Saving checkpoints for 10000 into C:\\Users\\Shyam\\AppData\\Local\\Temp\\tmpv76myz2z\\model.ckpt.\n",
      "INFO:tensorflow:Loss for final step: 100.04.\n"
     ]
    },
    {
     "data": {
      "text/plain": [
       "<tensorflow.python.estimator.canned.dnn.DNNClassifier at 0x25a52526550>"
      ]
     },
     "execution_count": 42,
     "metadata": {},
     "output_type": "execute_result"
    }
   ],
   "source": [
    "dnn_model.train(input_fn=input_func,steps=10000)"
   ]
  },
  {
   "cell_type": "code",
   "execution_count": 43,
   "metadata": {},
   "outputs": [],
   "source": [
    "eval_input_func = tf.estimator.inputs.pandas_input_fn(\n",
    "      x=X_test,\n",
    "      y=y_test,\n",
    "      batch_size=200,\n",
    "      num_epochs=1,\n",
    "      shuffle=False)"
   ]
  },
  {
   "cell_type": "code",
   "execution_count": null,
   "metadata": {},
   "outputs": [],
   "source": []
  },
  {
   "cell_type": "code",
   "execution_count": 44,
   "metadata": {},
   "outputs": [
    {
     "name": "stdout",
     "output_type": "stream",
     "text": [
      "WARNING:tensorflow:Casting <dtype: 'float32'> labels to bool.\n",
      "WARNING:tensorflow:Casting <dtype: 'float32'> labels to bool.\n",
      "INFO:tensorflow:Starting evaluation at 2017-10-23-08:06:44\n",
      "INFO:tensorflow:Restoring parameters from C:\\Users\\Shyam\\AppData\\Local\\Temp\\tmpv76myz2z\\model.ckpt-10000\n",
      "INFO:tensorflow:Finished evaluation at 2017-10-23-08:07:07\n",
      "INFO:tensorflow:Saving dict for global step 10000: accuracy = 0.803949, accuracy_baseline = 0.803949, auc = 0.5, auc_precision_recall = 0.598025, average_loss = 0.494889, global_step = 10000, label/mean = 0.196051, loss = 98.9399, prediction/mean = 0.197869\n"
     ]
    },
    {
     "data": {
      "text/plain": [
       "{'accuracy': 0.80394912,\n",
       " 'accuracy_baseline': 0.80394912,\n",
       " 'auc': 0.5,\n",
       " 'auc_precision_recall': 0.59802544,\n",
       " 'average_loss': 0.49488884,\n",
       " 'global_step': 10000,\n",
       " 'label/mean': 0.1960509,\n",
       " 'loss': 98.93988,\n",
       " 'prediction/mean': 0.19786875}"
      ]
     },
     "execution_count": 44,
     "metadata": {},
     "output_type": "execute_result"
    }
   ],
   "source": [
    "dnn_model.evaluate(eval_input_func)"
   ]
  },
  {
   "cell_type": "code",
   "execution_count": null,
   "metadata": {},
   "outputs": [],
   "source": []
  }
 ],
 "metadata": {
  "kernelspec": {
   "display_name": "Python 3",
   "language": "python",
   "name": "python3"
  },
  "language_info": {
   "codemirror_mode": {
    "name": "ipython",
    "version": 3
   },
   "file_extension": ".py",
   "mimetype": "text/x-python",
   "name": "python",
   "nbconvert_exporter": "python",
   "pygments_lexer": "ipython3",
   "version": "3.6.2"
  }
 },
 "nbformat": 4,
 "nbformat_minor": 2
}
