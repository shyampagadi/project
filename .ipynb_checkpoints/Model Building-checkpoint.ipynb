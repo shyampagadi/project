{
 "cells": [
  {
   "cell_type": "code",
   "execution_count": 1,
   "metadata": {
    "collapsed": true
   },
   "outputs": [],
   "source": [
    "import warnings\n",
    "warnings.filterwarnings('ignore')\n"
   ]
  },
  {
   "cell_type": "code",
   "execution_count": 2,
   "metadata": {},
   "outputs": [
    {
     "name": "stderr",
     "output_type": "stream",
     "text": [
      "C:\\Users\\Shyam\\Anaconda3\\lib\\site-packages\\sklearn\\cross_validation.py:44: DeprecationWarning: This module was deprecated in version 0.18 in favor of the model_selection module into which all the refactored classes and functions are moved. Also note that the interface of the new CV iterators are different from that of this module. This module will be removed in 0.20.\n",
      "  \"This module will be removed in 0.20.\", DeprecationWarning)\n"
     ]
    }
   ],
   "source": [
    "import sys\n",
    "import random\n",
    "import numpy as np\n",
    "\n",
    "from sklearn import linear_model, cross_validation, metrics, svm\n",
    "from sklearn.metrics import confusion_matrix, precision_recall_fscore_support, accuracy_score\n",
    "from sklearn.ensemble import RandomForestClassifier\n",
    "from sklearn.preprocessing import StandardScaler\n",
    "\n",
    "import pandas as pd\n",
    "import matplotlib.pyplot as plt\n",
    "import sklearn.feature_selection\n",
    "from sklearn.cross_validation import train_test_split\n",
    "import sklearn.feature_selection\n",
    "from sklearn.linear_model import LogisticRegression\n",
    "from sklearn.metrics import roc_auc_score,confusion_matrix,classification_report\n",
    "\n",
    "import pickle\n",
    "\n",
    "pd.options.display.max_columns = None\n",
    "pd.options.display.max_rows = None\n",
    "\n",
    "\n",
    "%matplotlib inline"
   ]
  },
  {
   "cell_type": "code",
   "execution_count": 5,
   "metadata": {
    "collapsed": true
   },
   "outputs": [],
   "source": [
    "mdata = pd.read_pickle('rawmodeldata.pkl')"
   ]
  },
  {
   "cell_type": "code",
   "execution_count": 45,
   "metadata": {},
   "outputs": [],
   "source": [
    "data =mdata[['Year', 'DepDelay', 'Month', 'DayofMonth', 'DayOfWeek', 'hour', 'Distance', 'UniqueCarrier', 'Dest', 'd2h', 'isdelay','Origin']]"
   ]
  },
  {
   "cell_type": "code",
   "execution_count": 46,
   "metadata": {},
   "outputs": [
    {
     "data": {
      "text/plain": [
       "(1932590, 12)"
      ]
     },
     "execution_count": 46,
     "metadata": {},
     "output_type": "execute_result"
    }
   ],
   "source": [
    "data.shape"
   ]
  },
  {
   "cell_type": "code",
   "execution_count": 47,
   "metadata": {
    "collapsed": true
   },
   "outputs": [],
   "source": [
    "cols = ['Month', 'DayofMonth', 'DayOfWeek', 'hour', 'Distance', 'd2h']"
   ]
  },
  {
   "cell_type": "code",
   "execution_count": 48,
   "metadata": {
    "collapsed": true
   },
   "outputs": [],
   "source": [
    "colsy= ['isdelay']"
   ]
  },
  {
   "cell_type": "code",
   "execution_count": 49,
   "metadata": {},
   "outputs": [
    {
     "data": {
      "text/plain": [
       "(1932590, 6)"
      ]
     },
     "execution_count": 49,
     "metadata": {},
     "output_type": "execute_result"
    }
   ],
   "source": [
    "X = data[cols]\n",
    "X.shape"
   ]
  },
  {
   "cell_type": "code",
   "execution_count": 50,
   "metadata": {},
   "outputs": [
    {
     "data": {
      "text/plain": [
       "(1932590, 1)"
      ]
     },
     "execution_count": 50,
     "metadata": {},
     "output_type": "execute_result"
    }
   ],
   "source": [
    "y=data[colsy]\n",
    "y.shape"
   ]
  },
  {
   "cell_type": "code",
   "execution_count": 12,
   "metadata": {
    "collapsed": true
   },
   "outputs": [],
   "source": [
    "from sklearn.cross_validation import train_test_split\n",
    "train_x, test_x, train_y, test_y = train_test_split(X, y, train_size=0.70, random_state=1)\n",
    "X_train, X_test, y_train, y_test = train_test_split(X, y, train_size=0.70, random_state=1)"
   ]
  },
  {
   "cell_type": "code",
   "execution_count": 20,
   "metadata": {},
   "outputs": [
    {
     "name": "stdout",
     "output_type": "stream",
     "text": [
      "(1352813, 6)\n",
      "(1352813, 1)\n",
      "(579777, 6)\n",
      "(579777, 1)\n"
     ]
    }
   ],
   "source": [
    "print(X_train.shape)\n",
    "print(y_train.shape)\n",
    "print(X_test.shape)\n",
    "print(y_test.shape)"
   ]
  },
  {
   "cell_type": "code",
   "execution_count": 23,
   "metadata": {},
   "outputs": [
    {
     "data": {
      "text/plain": [
       "isdelay    579777\n",
       "dtype: int64"
      ]
     },
     "execution_count": 23,
     "metadata": {},
     "output_type": "execute_result"
    }
   ],
   "source": []
  },
  {
   "cell_type": "code",
   "execution_count": 15,
   "metadata": {},
   "outputs": [
    {
     "name": "stdout",
     "output_type": "stream",
     "text": [
      "['Month', 'DayofMonth', 'DayOfWeek', 'hour', 'Distance', 'd2h']\n"
     ]
    }
   ],
   "source": [
    "import sklearn.feature_selection\n",
    "\n",
    "select = sklearn.feature_selection.SelectKBest(k=6)\n",
    "selected_features = select.fit(X_train, y_train)\n",
    "indices_selected = selected_features.get_support(indices=True)\n",
    "colnames_selected = [X.columns[i] for i in indices_selected]\n",
    "\n",
    "X_train_selected = X_train[colnames_selected]\n",
    "X_test_selected = X_test[colnames_selected]\n",
    "\n",
    "print(colnames_selected)"
   ]
  },
  {
   "cell_type": "code",
   "execution_count": 16,
   "metadata": {},
   "outputs": [
    {
     "name": "stderr",
     "output_type": "stream",
     "text": [
      "C:\\Users\\Shyam\\Anaconda3\\lib\\site-packages\\sklearn\\utils\\class_weight.py:65: DeprecationWarning: The class_weight='auto' heuristic is deprecated in 0.17 in favor of a new heuristic class_weight='balanced'. 'auto' will be removed in 0.19\n",
      "  \" 0.19\", DeprecationWarning)\n"
     ]
    },
    {
     "name": "stdout",
     "output_type": "stream",
     "text": [
      "Logistic classifier ROC =  0.623449911412\n",
      "             precision    recall  f1-score   support\n",
      "\n",
      "          0       0.87      0.61      0.72    466056\n",
      "          1       0.28      0.64      0.39    113721\n",
      "\n",
      "avg / total       0.76      0.62      0.65    579777\n",
      "\n"
     ]
    }
   ],
   "source": [
    "model = LogisticRegression(penalty='l2',class_weight='auto',C=0.1)\n",
    "model.fit(X_train, y_train)\n",
    "logit_roc_auc = roc_auc_score(y_test,model.predict(X_test))\n",
    "print(\"Logistic classifier ROC = \",  logit_roc_auc)\n",
    "print(classification_report(y_test,model.predict(X_test)))"
   ]
  },
  {
   "cell_type": "code",
   "execution_count": 17,
   "metadata": {},
   "outputs": [
    {
     "name": "stdout",
     "output_type": "stream",
     "text": [
      "Random classifier ROC =  0.668884977608\n",
      "             precision    recall  f1-score   support\n",
      "\n",
      "          0       0.89      0.71      0.79    466056\n",
      "          1       0.35      0.63      0.45    113721\n",
      "\n",
      "avg / total       0.78      0.69      0.72    579777\n",
      "\n",
      "[ 0.10344397  0.08690732  0.04062086  0.39443497  0.29954197  0.07505091]\n",
      "Wall time: 4min 50s\n"
     ]
    }
   ],
   "source": [
    "%%time\n",
    "random_forest = RandomForestClassifier(n_estimators=50, n_jobs=1,class_weight='auto',min_samples_leaf=20,oob_score=True)\n",
    "random_forest.fit(X_train,y_train)\n",
    "\n",
    "random_roc_auc = roc_auc_score(y_test,random_forest.predict(X_test))\n",
    "print(\"Random classifier ROC = \",  random_roc_auc)\n",
    "print(classification_report(y_test,random_forest.predict(X_test)))\n",
    "print(random_forest.feature_importances_)"
   ]
  },
  {
   "cell_type": "code",
   "execution_count": 30,
   "metadata": {},
   "outputs": [
    {
     "name": "stdout",
     "output_type": "stream",
     "text": [
      "Random classifier ROC =  0.672306932265\n",
      "             precision    recall  f1-score   support\n",
      "\n",
      "          0       0.89      0.68      0.77    466056\n",
      "          1       0.34      0.66      0.45    113721\n",
      "\n",
      "avg / total       0.78      0.68      0.71    579777\n",
      "\n",
      "[ 0.12811912  0.09570828  0.03865268  0.48852898  0.16950185  0.07948909]\n",
      "Wall time: 43.8 s\n"
     ]
    }
   ],
   "source": [
    "%%time\n",
    "random_forest = RandomForestClassifier(n_estimators=20, n_jobs=-1,class_weight='auto',min_samples_leaf=50,oob_score=True,max_features='auto')\n",
    "random_forest.fit(X_train,y_train)\n",
    "\n",
    "random_roc_auc = roc_auc_score(y_test,random_forest.predict(X_test))\n",
    "print(\"Random classifier ROC = \",  random_roc_auc)\n",
    "print(classification_report(y_test,random_forest.predict(X_test)))\n",
    "print(random_forest.feature_importances_)"
   ]
  },
  {
   "cell_type": "code",
   "execution_count": 43,
   "metadata": {},
   "outputs": [],
   "source": [
    "weather = pd.read_csv('data/weather_2008.csv')"
   ]
  },
  {
   "cell_type": "code",
   "execution_count": 51,
   "metadata": {},
   "outputs": [],
   "source": [
    "fdata = data.merge(weather, left_on=['Year','Month', 'DayofMonth', 'Origin'], right_on=['year','month','day','origin'],how='left')"
   ]
  },
  {
   "cell_type": "code",
   "execution_count": 54,
   "metadata": {},
   "outputs": [
    {
     "data": {
      "text/plain": [
       "Index(['Year', 'DepDelay', 'Month', 'DayofMonth', 'DayOfWeek', 'hour',\n",
       "       'Distance', 'UniqueCarrier', 'Dest', 'd2h', 'isdelay', 'Origin',\n",
       "       'origin', 'maxt', 'mint', 'year', 'month', 'day'],\n",
       "      dtype='object')"
      ]
     },
     "execution_count": 54,
     "metadata": {},
     "output_type": "execute_result"
    }
   ],
   "source": [
    "fdata.columns"
   ]
  },
  {
   "cell_type": "code",
   "execution_count": 55,
   "metadata": {
    "collapsed": true
   },
   "outputs": [],
   "source": [
    "fcols = ['Month', 'DayofMonth', 'DayOfWeek', 'hour','Distance', 'UniqueCarrier', 'Dest', 'd2h', 'isdelay',  'maxt', 'mint']"
   ]
  },
  {
   "cell_type": "code",
   "execution_count": 68,
   "metadata": {
    "collapsed": true
   },
   "outputs": [],
   "source": [
    "d_cols = ['Month', 'DayofMonth', 'DayOfWeek', 'UniqueCarrier', 'hour','Dest']"
   ]
  },
  {
   "cell_type": "code",
   "execution_count": 69,
   "metadata": {
    "collapsed": true
   },
   "outputs": [],
   "source": [
    "XX = fdata[fcols]"
   ]
  },
  {
   "cell_type": "code",
   "execution_count": 70,
   "metadata": {
    "collapsed": true
   },
   "outputs": [],
   "source": [
    "X=XX.drop('isdelay',axis=1)"
   ]
  },
  {
   "cell_type": "code",
   "execution_count": 71,
   "metadata": {
    "collapsed": true
   },
   "outputs": [],
   "source": [
    "y = XX[colsy]"
   ]
  },
  {
   "cell_type": "code",
   "execution_count": 76,
   "metadata": {
    "collapsed": true
   },
   "outputs": [],
   "source": [
    "from sklearn.cross_validation import train_test_split\n",
    "#train_x, test_x, train_y, test_y = train_test_split(X, y, train_size=0.70, random_state=1)\n",
    "X_train, X_test, y_train, y_test = train_test_split(X, y, train_size=0.70, random_state=1)"
   ]
  },
  {
   "cell_type": "code",
   "execution_count": 62,
   "metadata": {},
   "outputs": [
    {
     "name": "stdout",
     "output_type": "stream",
     "text": [
      "(1932590, 11)\n",
      "(1932590, 381)\n"
     ]
    }
   ],
   "source": [
    "print(XX.shape)\n",
    "print(X.shape)"
   ]
  },
  {
   "cell_type": "code",
   "execution_count": 75,
   "metadata": {},
   "outputs": [],
   "source": [
    "# X['UniqueCarrier'] = pd.factorize(X['UniqueCarrier'])[0]\n",
    "# X['Dest'] = pd.factorize(X['Dest'])[0]\n",
    "\n",
    "categ = [d_cols.index(x) for x in ('Month', 'DayofMonth', 'DayOfWeek', 'UniqueCarrier', 'hour','Dest')]\n",
    "enc = OneHotEncoder(categorical_features = categ)\n",
    "\n",
    "X['UniqueCarrier'] = pd.factorize(X['UniqueCarrier'])[0]\n",
    "X['Dest'] = pd.factorize(X['Dest'])[0]\n",
    "X_train = enc.fit_transform(X)\n",
    "\n",
    "y['UniqueCarrier'] = pd.factorize(y['UniqueCarrier'])[0]\n",
    "y['Dest'] = pd.factorize(y['Dest'])[0]\n",
    "X_test = enc.fit_transform(y)\n"
   ]
  },
  {
   "cell_type": "code",
   "execution_count": null,
   "metadata": {
    "collapsed": true
   },
   "outputs": [],
   "source": []
  },
  {
   "cell_type": "code",
   "execution_count": null,
   "metadata": {
    "collapsed": true
   },
   "outputs": [],
   "source": []
  },
  {
   "cell_type": "code",
   "execution_count": null,
   "metadata": {
    "collapsed": true
   },
   "outputs": [],
   "source": []
  },
  {
   "cell_type": "code",
   "execution_count": null,
   "metadata": {
    "collapsed": true
   },
   "outputs": [],
   "source": []
  },
  {
   "cell_type": "code",
   "execution_count": null,
   "metadata": {
    "collapsed": true
   },
   "outputs": [],
   "source": []
  },
  {
   "cell_type": "code",
   "execution_count": null,
   "metadata": {
    "collapsed": true
   },
   "outputs": [],
   "source": []
  },
  {
   "cell_type": "code",
   "execution_count": null,
   "metadata": {
    "collapsed": true
   },
   "outputs": [],
   "source": []
  },
  {
   "cell_type": "code",
   "execution_count": null,
   "metadata": {
    "collapsed": true
   },
   "outputs": [],
   "source": []
  },
  {
   "cell_type": "code",
   "execution_count": null,
   "metadata": {
    "collapsed": true
   },
   "outputs": [],
   "source": []
  },
  {
   "cell_type": "code",
   "execution_count": null,
   "metadata": {
    "collapsed": true
   },
   "outputs": [],
   "source": []
  },
  {
   "cell_type": "code",
   "execution_count": null,
   "metadata": {
    "collapsed": true
   },
   "outputs": [],
   "source": []
  }
 ],
 "metadata": {
  "kernelspec": {
   "display_name": "Python 3",
   "language": "python",
   "name": "python3"
  },
  "language_info": {
   "codemirror_mode": {
    "name": "ipython",
    "version": 3
   },
   "file_extension": ".py",
   "mimetype": "text/x-python",
   "name": "python",
   "nbconvert_exporter": "python",
   "pygments_lexer": "ipython3",
   "version": "3.6.1"
  }
 },
 "nbformat": 4,
 "nbformat_minor": 2
}
